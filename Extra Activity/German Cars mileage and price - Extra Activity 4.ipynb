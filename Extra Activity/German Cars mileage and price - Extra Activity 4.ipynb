{
 "cells": [
  {
   "cell_type": "code",
   "execution_count": 1,
   "id": "5529856a",
   "metadata": {},
   "outputs": [],
   "source": [
    "import numpy as np\n",
    "import pandas as pd\n",
    "import matplotlib.pyplot as plt"
   ]
  },
  {
   "cell_type": "code",
   "execution_count": 2,
   "id": "c7bea672",
   "metadata": {},
   "outputs": [],
   "source": [
    "df = pd.read_csv('germany_auto_industry_dataset.csv')"
   ]
  },
  {
   "cell_type": "code",
   "execution_count": 3,
   "id": "e708ee31",
   "metadata": {},
   "outputs": [
    {
     "data": {
      "text/html": [
       "<div>\n",
       "<style scoped>\n",
       "    .dataframe tbody tr th:only-of-type {\n",
       "        vertical-align: middle;\n",
       "    }\n",
       "\n",
       "    .dataframe tbody tr th {\n",
       "        vertical-align: top;\n",
       "    }\n",
       "\n",
       "    .dataframe thead th {\n",
       "        text-align: right;\n",
       "    }\n",
       "</style>\n",
       "<table border=\"1\" class=\"dataframe\">\n",
       "  <thead>\n",
       "    <tr style=\"text-align: right;\">\n",
       "      <th></th>\n",
       "      <th>Brand</th>\n",
       "      <th>Model</th>\n",
       "      <th>Year</th>\n",
       "      <th>Mileage</th>\n",
       "      <th>Fuel Type</th>\n",
       "      <th>Fuel Consumption (L/100km)</th>\n",
       "      <th>Horsepower (HP)</th>\n",
       "      <th>Transmission</th>\n",
       "      <th>Price</th>\n",
       "      <th>City</th>\n",
       "    </tr>\n",
       "  </thead>\n",
       "  <tbody>\n",
       "    <tr>\n",
       "      <th>0</th>\n",
       "      <td>Audi</td>\n",
       "      <td>Q7</td>\n",
       "      <td>2006</td>\n",
       "      <td>260886</td>\n",
       "      <td>Diesel</td>\n",
       "      <td>9.5</td>\n",
       "      <td>213</td>\n",
       "      <td>Automatic</td>\n",
       "      <td>12063.27</td>\n",
       "      <td>Cologne</td>\n",
       "    </tr>\n",
       "    <tr>\n",
       "      <th>1</th>\n",
       "      <td>Opel</td>\n",
       "      <td>Corsa</td>\n",
       "      <td>2015</td>\n",
       "      <td>72505</td>\n",
       "      <td>Hybrid</td>\n",
       "      <td>6.5</td>\n",
       "      <td>335</td>\n",
       "      <td>Automatic</td>\n",
       "      <td>33890.58</td>\n",
       "      <td>Berlin</td>\n",
       "    </tr>\n",
       "    <tr>\n",
       "      <th>2</th>\n",
       "      <td>Mercedes</td>\n",
       "      <td>C-Class</td>\n",
       "      <td>2007</td>\n",
       "      <td>125356</td>\n",
       "      <td>Electric</td>\n",
       "      <td>9.9</td>\n",
       "      <td>445</td>\n",
       "      <td>Automatic</td>\n",
       "      <td>92639.12</td>\n",
       "      <td>Berlin</td>\n",
       "    </tr>\n",
       "    <tr>\n",
       "      <th>3</th>\n",
       "      <td>Volkswagen</td>\n",
       "      <td>Polo</td>\n",
       "      <td>2009</td>\n",
       "      <td>130867</td>\n",
       "      <td>Electric</td>\n",
       "      <td>4.1</td>\n",
       "      <td>165</td>\n",
       "      <td>Automatic</td>\n",
       "      <td>88003.50</td>\n",
       "      <td>Munich</td>\n",
       "    </tr>\n",
       "    <tr>\n",
       "      <th>4</th>\n",
       "      <td>Opel</td>\n",
       "      <td>Astra</td>\n",
       "      <td>2022</td>\n",
       "      <td>57482</td>\n",
       "      <td>Electric</td>\n",
       "      <td>5.2</td>\n",
       "      <td>145</td>\n",
       "      <td>Manual</td>\n",
       "      <td>26028.97</td>\n",
       "      <td>Hamburg</td>\n",
       "    </tr>\n",
       "  </tbody>\n",
       "</table>\n",
       "</div>"
      ],
      "text/plain": [
       "        Brand    Model  Year  Mileage Fuel Type  Fuel Consumption (L/100km)  \\\n",
       "0        Audi       Q7  2006   260886    Diesel                         9.5   \n",
       "1        Opel    Corsa  2015    72505    Hybrid                         6.5   \n",
       "2    Mercedes  C-Class  2007   125356  Electric                         9.9   \n",
       "3  Volkswagen     Polo  2009   130867  Electric                         4.1   \n",
       "4        Opel    Astra  2022    57482  Electric                         5.2   \n",
       "\n",
       "   Horsepower (HP) Transmission    Price      City  \n",
       "0              213    Automatic  12063.27  Cologne  \n",
       "1              335    Automatic  33890.58   Berlin  \n",
       "2              445    Automatic  92639.12   Berlin  \n",
       "3              165    Automatic  88003.50   Munich  \n",
       "4              145       Manual  26028.97  Hamburg  "
      ]
     },
     "execution_count": 3,
     "metadata": {},
     "output_type": "execute_result"
    }
   ],
   "source": [
    "df.head()"
   ]
  },
  {
   "cell_type": "code",
   "execution_count": 5,
   "id": "5a650ce5",
   "metadata": {},
   "outputs": [
    {
     "data": {
      "text/html": [
       "<div>\n",
       "<style scoped>\n",
       "    .dataframe tbody tr th:only-of-type {\n",
       "        vertical-align: middle;\n",
       "    }\n",
       "\n",
       "    .dataframe tbody tr th {\n",
       "        vertical-align: top;\n",
       "    }\n",
       "\n",
       "    .dataframe thead th {\n",
       "        text-align: right;\n",
       "    }\n",
       "</style>\n",
       "<table border=\"1\" class=\"dataframe\">\n",
       "  <thead>\n",
       "    <tr style=\"text-align: right;\">\n",
       "      <th></th>\n",
       "      <th>count</th>\n",
       "      <th>mean</th>\n",
       "      <th>std</th>\n",
       "      <th>min</th>\n",
       "      <th>25%</th>\n",
       "      <th>50%</th>\n",
       "      <th>75%</th>\n",
       "      <th>max</th>\n",
       "    </tr>\n",
       "  </thead>\n",
       "  <tbody>\n",
       "    <tr>\n",
       "      <th>Year</th>\n",
       "      <td>500.0</td>\n",
       "      <td>2014.30200</td>\n",
       "      <td>5.504125</td>\n",
       "      <td>2005.00</td>\n",
       "      <td>2009.7500</td>\n",
       "      <td>2014.000</td>\n",
       "      <td>2019.00</td>\n",
       "      <td>2023.00</td>\n",
       "    </tr>\n",
       "    <tr>\n",
       "      <th>Mileage</th>\n",
       "      <td>500.0</td>\n",
       "      <td>158885.27000</td>\n",
       "      <td>85604.122684</td>\n",
       "      <td>5667.00</td>\n",
       "      <td>85787.2500</td>\n",
       "      <td>160433.500</td>\n",
       "      <td>234079.75</td>\n",
       "      <td>299573.00</td>\n",
       "    </tr>\n",
       "    <tr>\n",
       "      <th>Fuel Consumption (L/100km)</th>\n",
       "      <td>500.0</td>\n",
       "      <td>7.63080</td>\n",
       "      <td>2.654805</td>\n",
       "      <td>3.00</td>\n",
       "      <td>5.3000</td>\n",
       "      <td>7.900</td>\n",
       "      <td>10.00</td>\n",
       "      <td>12.00</td>\n",
       "    </tr>\n",
       "    <tr>\n",
       "      <th>Horsepower (HP)</th>\n",
       "      <td>500.0</td>\n",
       "      <td>281.11200</td>\n",
       "      <td>121.169251</td>\n",
       "      <td>70.00</td>\n",
       "      <td>175.0000</td>\n",
       "      <td>279.500</td>\n",
       "      <td>385.00</td>\n",
       "      <td>500.00</td>\n",
       "    </tr>\n",
       "    <tr>\n",
       "      <th>Price</th>\n",
       "      <td>500.0</td>\n",
       "      <td>51064.28894</td>\n",
       "      <td>28652.646997</td>\n",
       "      <td>5209.73</td>\n",
       "      <td>24478.0575</td>\n",
       "      <td>52892.525</td>\n",
       "      <td>75037.67</td>\n",
       "      <td>99981.48</td>\n",
       "    </tr>\n",
       "  </tbody>\n",
       "</table>\n",
       "</div>"
      ],
      "text/plain": [
       "                            count          mean           std      min  \\\n",
       "Year                        500.0    2014.30200      5.504125  2005.00   \n",
       "Mileage                     500.0  158885.27000  85604.122684  5667.00   \n",
       "Fuel Consumption (L/100km)  500.0       7.63080      2.654805     3.00   \n",
       "Horsepower (HP)             500.0     281.11200    121.169251    70.00   \n",
       "Price                       500.0   51064.28894  28652.646997  5209.73   \n",
       "\n",
       "                                   25%         50%        75%        max  \n",
       "Year                         2009.7500    2014.000    2019.00    2023.00  \n",
       "Mileage                     85787.2500  160433.500  234079.75  299573.00  \n",
       "Fuel Consumption (L/100km)      5.3000       7.900      10.00      12.00  \n",
       "Horsepower (HP)               175.0000     279.500     385.00     500.00  \n",
       "Price                       24478.0575   52892.525   75037.67   99981.48  "
      ]
     },
     "execution_count": 5,
     "metadata": {},
     "output_type": "execute_result"
    }
   ],
   "source": [
    "df.describe().transpose()"
   ]
  },
  {
   "cell_type": "code",
   "execution_count": 14,
   "id": "3984d13c",
   "metadata": {},
   "outputs": [
    {
     "data": {
      "text/plain": [
       "51064.28894"
      ]
     },
     "execution_count": 14,
     "metadata": {},
     "output_type": "execute_result"
    }
   ],
   "source": [
    "df['Price '].mean()"
   ]
  },
  {
   "cell_type": "code",
   "execution_count": 15,
   "id": "4e890a17",
   "metadata": {},
   "outputs": [
    {
     "data": {
      "text/plain": [
       "28652.646996579882"
      ]
     },
     "execution_count": 15,
     "metadata": {},
     "output_type": "execute_result"
    }
   ],
   "source": [
    "df['Price '].std()"
   ]
  },
  {
   "cell_type": "code",
   "execution_count": 17,
   "id": "8440eead",
   "metadata": {},
   "outputs": [
    {
     "data": {
      "text/plain": [
       "820974179.9106181"
      ]
     },
     "execution_count": 17,
     "metadata": {},
     "output_type": "execute_result"
    }
   ],
   "source": [
    "df['Price '].var()"
   ]
  },
  {
   "cell_type": "code",
   "execution_count": 47,
   "id": "2c6fcb0d",
   "metadata": {},
   "outputs": [
    {
     "name": "stdout",
     "output_type": "stream",
     "text": [
      "Number of cars that have price less than or equal to 10000 = 33\n",
      "CDF or f(10000) = 0.066\n",
      "Number of cars that have price less than or equal to 20000 = 91\n",
      "CDF or f(20000) = 0.182\n",
      "Number of cars that have price less than or equal to 30000 = 157\n",
      "CDF or f(30000) = 0.314\n",
      "Number of cars that have price less than or equal to 40000 = 208\n",
      "CDF or f(40000) = 0.416\n",
      "Number of cars that have price less than or equal to 50000 = 242\n",
      "CDF or f(50000) = 0.484\n",
      "Number of cars that have price less than or equal to 60000 = 287\n",
      "CDF or f(60000) = 0.574\n",
      "Number of cars that have price less than or equal to 70000 = 348\n",
      "CDF or f(70000) = 0.696\n",
      "Number of cars that have price less than or equal to 80000 = 395\n",
      "CDF or f(80000) = 0.79\n",
      "Number of cars that have price less than or equal to 90000 = 441\n",
      "CDF or f(90000) = 0.882\n",
      "Number of cars that have price less than or equal to 95000 = 470\n",
      "CDF or f(95000) = 0.94\n"
     ]
    }
   ],
   "source": [
    "car_prices = [10000, 20000, 30000, 40000, 50000, 60000, 70000, 80000, 90000, 95000]\n",
    "cdf_list = []\n",
    "for price in car_prices:\n",
    "    # Count the number of occurances of price less than or equal to the value\n",
    "    count = 0  \n",
    "    for i in range(len(df)):\n",
    "        if df['Price '][i] <= price:\n",
    "            count += 1\n",
    "    print(f'Number of cars that have price less than or equal to {price} = {count}') \n",
    "    # cdf calculation: Total days price is less than or equal to a / Total cars\n",
    "    cdf = round(count / len(df), 3)\n",
    "    cdf_list.append(cdf)\n",
    "    print(f'CDF or f({price}) = {cdf}')"
   ]
  },
  {
   "cell_type": "code",
   "execution_count": 19,
   "id": "b076187a",
   "metadata": {},
   "outputs": [],
   "source": [
    "cdf_list_ggl_sht = [0.076, 0.139, 0.231, 0.350\n",
    ", 0.485, 0.622, 0.745, 0.843, 0.913, 0.937]"
   ]
  },
  {
   "cell_type": "code",
   "execution_count": 20,
   "id": "4607f5aa",
   "metadata": {},
   "outputs": [
    {
     "data": {
      "text/plain": [
       "[<matplotlib.lines.Line2D at 0x7f4b0f958d90>]"
      ]
     },
     "execution_count": 20,
     "metadata": {},
     "output_type": "execute_result"
    },
    {
     "data": {
      "image/png": "[encoded data removed]",
      "text/plain": [
       "<Figure size 640x480 with 1 Axes>"
      ]
     },
     "metadata": {},
     "output_type": "display_data"
    }
   ],
   "source": [
    "plt.plot(car_prices, cdf_list)\n",
    "plt.plot(car_prices, cdf_list_ggl_sht)"
   ]
  },
  {
   "cell_type": "code",
   "execution_count": 21,
   "id": "65b78e31",
   "metadata": {},
   "outputs": [
    {
     "data": {
      "text/plain": [
       "[0.066, 0.182, 0.314, 0.416, 0.484, 0.574, 0.696, 0.79, 0.882, 0.94]"
      ]
     },
     "execution_count": 21,
     "metadata": {},
     "output_type": "execute_result"
    }
   ],
   "source": [
    "cdf_list"
   ]
  },
  {
   "cell_type": "code",
   "execution_count": 23,
   "id": "a6d89f83",
   "metadata": {},
   "outputs": [],
   "source": [
    "data = {'Price': [10000, 20000, 30000, 40000, 50000, 60000, 70000, 80000, 90000, 95000],\n",
    "        'CDF': [0.066, 0.182, 0.314, 0.416, 0.484, 0.574, 0.696, 0.79, 0.882, 0.94],\n",
    "               'Google_CDF': [0.076, 0.139, 0.231, 0.350\n",
    ", 0.485, 0.622, 0.745, 0.843, 0.913, 0.937]}"
   ]
  },
  {
   "cell_type": "code",
   "execution_count": 25,
   "id": "ebfb2fb2",
   "metadata": {},
   "outputs": [],
   "source": [
    "price_cdf_data = pd.DataFrame(data=data)"
   ]
  },
  {
   "cell_type": "code",
   "execution_count": 26,
   "id": "5027bf0c",
   "metadata": {},
   "outputs": [
    {
     "data": {
      "text/html": [
       "<div>\n",
       "<style scoped>\n",
       "    .dataframe tbody tr th:only-of-type {\n",
       "        vertical-align: middle;\n",
       "    }\n",
       "\n",
       "    .dataframe tbody tr th {\n",
       "        vertical-align: top;\n",
       "    }\n",
       "\n",
       "    .dataframe thead th {\n",
       "        text-align: right;\n",
       "    }\n",
       "</style>\n",
       "<table border=\"1\" class=\"dataframe\">\n",
       "  <thead>\n",
       "    <tr style=\"text-align: right;\">\n",
       "      <th></th>\n",
       "      <th>Price</th>\n",
       "      <th>CDF</th>\n",
       "      <th>Google_CDF</th>\n",
       "    </tr>\n",
       "  </thead>\n",
       "  <tbody>\n",
       "    <tr>\n",
       "      <th>0</th>\n",
       "      <td>10000</td>\n",
       "      <td>0.066</td>\n",
       "      <td>0.076</td>\n",
       "    </tr>\n",
       "    <tr>\n",
       "      <th>1</th>\n",
       "      <td>20000</td>\n",
       "      <td>0.182</td>\n",
       "      <td>0.139</td>\n",
       "    </tr>\n",
       "    <tr>\n",
       "      <th>2</th>\n",
       "      <td>30000</td>\n",
       "      <td>0.314</td>\n",
       "      <td>0.231</td>\n",
       "    </tr>\n",
       "    <tr>\n",
       "      <th>3</th>\n",
       "      <td>40000</td>\n",
       "      <td>0.416</td>\n",
       "      <td>0.350</td>\n",
       "    </tr>\n",
       "    <tr>\n",
       "      <th>4</th>\n",
       "      <td>50000</td>\n",
       "      <td>0.484</td>\n",
       "      <td>0.485</td>\n",
       "    </tr>\n",
       "    <tr>\n",
       "      <th>5</th>\n",
       "      <td>60000</td>\n",
       "      <td>0.574</td>\n",
       "      <td>0.622</td>\n",
       "    </tr>\n",
       "    <tr>\n",
       "      <th>6</th>\n",
       "      <td>70000</td>\n",
       "      <td>0.696</td>\n",
       "      <td>0.745</td>\n",
       "    </tr>\n",
       "    <tr>\n",
       "      <th>7</th>\n",
       "      <td>80000</td>\n",
       "      <td>0.790</td>\n",
       "      <td>0.843</td>\n",
       "    </tr>\n",
       "    <tr>\n",
       "      <th>8</th>\n",
       "      <td>90000</td>\n",
       "      <td>0.882</td>\n",
       "      <td>0.913</td>\n",
       "    </tr>\n",
       "    <tr>\n",
       "      <th>9</th>\n",
       "      <td>95000</td>\n",
       "      <td>0.940</td>\n",
       "      <td>0.937</td>\n",
       "    </tr>\n",
       "  </tbody>\n",
       "</table>\n",
       "</div>"
      ],
      "text/plain": [
       "   Price    CDF  Google_CDF\n",
       "0  10000  0.066       0.076\n",
       "1  20000  0.182       0.139\n",
       "2  30000  0.314       0.231\n",
       "3  40000  0.416       0.350\n",
       "4  50000  0.484       0.485\n",
       "5  60000  0.574       0.622\n",
       "6  70000  0.696       0.745\n",
       "7  80000  0.790       0.843\n",
       "8  90000  0.882       0.913\n",
       "9  95000  0.940       0.937"
      ]
     },
     "execution_count": 26,
     "metadata": {},
     "output_type": "execute_result"
    }
   ],
   "source": [
    "price_cdf_data"
   ]
  },
  {
   "cell_type": "code",
   "execution_count": 48,
   "id": "61a3e316",
   "metadata": {},
   "outputs": [
    {
     "data": {
      "text/plain": [
       "<matplotlib.legend.Legend at 0x7f4b0ac53210>"
      ]
     },
     "execution_count": 48,
     "metadata": {},
     "output_type": "execute_result"
    },
    {
     "data": {
      "image/png": "[encoded data removed]",
      "text/plain": [
       "<Figure size 640x480 with 1 Axes>"
      ]
     },
     "metadata": {},
     "output_type": "display_data"
    }
   ],
   "source": [
    "plt.plot(price_cdf_data['Price'], price_cdf_data['CDF'])\n",
    "plt.plot(price_cdf_data['Price'], price_cdf_data['Google_CDF'])\n",
    "plt.title('Price vs CDF')\n",
    "plt.xlabel('Price of cars')\n",
    "plt.ylabel('CDF using the data points')\n",
    "plt.legend(['CDF', 'CDF obtained from Google Sheets Formula'])"
   ]
  },
  {
   "cell_type": "markdown",
   "id": "889877db",
   "metadata": {},
   "source": [
    "$\\sum_{n=1}^{500} \\frac{x_i - E[X]^2}{500}$"
   ]
  },
  {
   "cell_type": "code",
   "execution_count": null,
   "id": "8ba1052c",
   "metadata": {},
   "outputs": [],
   "source": []
  }
 ],
 "metadata": {
  "kernelspec": {
   "display_name": "Python 3 (ipykernel)",
   "language": "python",
   "name": "python3"
  },
  "language_info": {
   "codemirror_mode": {
    "name": "ipython",
    "version": 3
   },
   "file_extension": ".py",
   "mimetype": "text/x-python",
   "name": "python",
   "nbconvert_exporter": "python",
   "pygments_lexer": "ipython3",
   "version": "3.11.3"
  },
  "toc": {
   "base_numbering": 1,
   "nav_menu": {},
   "number_sections": true,
   "sideBar": true,
   "skip_h1_title": false,
   "title_cell": "Table of Contents",
   "title_sidebar": "Contents",
   "toc_cell": false,
   "toc_position": {},
   "toc_section_display": true,
   "toc_window_display": false
  },
  "varInspector": {
   "cols": {
    "lenName": 16,
    "lenType": 16,
    "lenVar": 40
   },
   "kernels_config": {
    "python": {
     "delete_cmd_postfix": "",
     "delete_cmd_prefix": "del ",
     "library": "var_list.py",
     "varRefreshCmd": "print(var_dic_list())"
    },
    "r": {
     "delete_cmd_postfix": ") ",
     "delete_cmd_prefix": "rm(",
     "library": "var_list.r",
     "varRefreshCmd": "cat(var_dic_list()) "
    }
   },
   "types_to_exclude": [
    "module",
    "function",
    "builtin_function_or_method",
    "instance",
    "_Feature"
   ],
   "window_display": false
  }
 },
 "nbformat": 4,
 "nbformat_minor": 5
}
