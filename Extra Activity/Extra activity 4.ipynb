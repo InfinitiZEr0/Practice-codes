{
 "cells": [
  {
   "cell_type": "code",
   "execution_count": 2,
   "id": "d4c5d746",
   "metadata": {},
   "outputs": [],
   "source": [
    "import numpy as np\n",
    "import pandas as pd\n",
    "import matplotlib.pyplot as plt\n",
    "import seaborn as sns"
   ]
  },
  {
   "cell_type": "code",
   "execution_count": 3,
   "id": "c8f1d4cc",
   "metadata": {},
   "outputs": [],
   "source": [
    "df = pd.read_csv('tomato_price2023-edited.csv')"
   ]
  },
  {
   "cell_type": "code",
   "execution_count": 4,
   "id": "d73abeba",
   "metadata": {},
   "outputs": [
    {
     "data": {
      "text/html": [
       "<div>\n",
       "<style scoped>\n",
       "    .dataframe tbody tr th:only-of-type {\n",
       "        vertical-align: middle;\n",
       "    }\n",
       "\n",
       "    .dataframe tbody tr th {\n",
       "        vertical-align: top;\n",
       "    }\n",
       "\n",
       "    .dataframe thead th {\n",
       "        text-align: right;\n",
       "    }\n",
       "</style>\n",
       "<table border=\"1\" class=\"dataframe\">\n",
       "  <thead>\n",
       "    <tr style=\"text-align: right;\">\n",
       "      <th></th>\n",
       "      <th>Sl no.</th>\n",
       "      <th>District Name</th>\n",
       "      <th>Market Name</th>\n",
       "      <th>Commodity</th>\n",
       "      <th>Variety</th>\n",
       "      <th>Grade</th>\n",
       "      <th>Min Price (Rs./Quintal)</th>\n",
       "      <th>Max Price (Rs./Quintal)</th>\n",
       "      <th>Modal Price (Rs./Quintal)</th>\n",
       "      <th>Price Date</th>\n",
       "    </tr>\n",
       "  </thead>\n",
       "  <tbody>\n",
       "    <tr>\n",
       "      <th>0</th>\n",
       "      <td>1</td>\n",
       "      <td>Davangere</td>\n",
       "      <td>Davangere</td>\n",
       "      <td>Tomato</td>\n",
       "      <td>Tomato</td>\n",
       "      <td>FAQ</td>\n",
       "      <td>1000</td>\n",
       "      <td>1600</td>\n",
       "      <td>1200</td>\n",
       "      <td>December</td>\n",
       "    </tr>\n",
       "    <tr>\n",
       "      <th>1</th>\n",
       "      <td>2</td>\n",
       "      <td>Davangere</td>\n",
       "      <td>Davangere</td>\n",
       "      <td>Tomato</td>\n",
       "      <td>Tomato</td>\n",
       "      <td>FAQ</td>\n",
       "      <td>800</td>\n",
       "      <td>1200</td>\n",
       "      <td>1000</td>\n",
       "      <td>December</td>\n",
       "    </tr>\n",
       "    <tr>\n",
       "      <th>2</th>\n",
       "      <td>3</td>\n",
       "      <td>Davangere</td>\n",
       "      <td>Davangere</td>\n",
       "      <td>Tomato</td>\n",
       "      <td>Tomato</td>\n",
       "      <td>FAQ</td>\n",
       "      <td>800</td>\n",
       "      <td>1200</td>\n",
       "      <td>1000</td>\n",
       "      <td>December</td>\n",
       "    </tr>\n",
       "    <tr>\n",
       "      <th>3</th>\n",
       "      <td>4</td>\n",
       "      <td>Davangere</td>\n",
       "      <td>Davangere</td>\n",
       "      <td>Tomato</td>\n",
       "      <td>Tomato</td>\n",
       "      <td>FAQ</td>\n",
       "      <td>1000</td>\n",
       "      <td>1500</td>\n",
       "      <td>1200</td>\n",
       "      <td>December</td>\n",
       "    </tr>\n",
       "    <tr>\n",
       "      <th>4</th>\n",
       "      <td>5</td>\n",
       "      <td>Davangere</td>\n",
       "      <td>Davangere</td>\n",
       "      <td>Tomato</td>\n",
       "      <td>Tomato</td>\n",
       "      <td>FAQ</td>\n",
       "      <td>1000</td>\n",
       "      <td>1600</td>\n",
       "      <td>1200</td>\n",
       "      <td>December</td>\n",
       "    </tr>\n",
       "  </tbody>\n",
       "</table>\n",
       "</div>"
      ],
      "text/plain": [
       "   Sl no. District Name Market Name Commodity  Variety Grade  \\\n",
       "0       1    Davangere   Davangere    Tomato   Tomato   FAQ    \n",
       "1       2    Davangere   Davangere    Tomato   Tomato   FAQ    \n",
       "2       3    Davangere   Davangere    Tomato   Tomato   FAQ    \n",
       "3       4    Davangere   Davangere    Tomato   Tomato   FAQ    \n",
       "4       5    Davangere   Davangere    Tomato   Tomato   FAQ    \n",
       "\n",
       "   Min Price (Rs./Quintal)  Max Price (Rs./Quintal)  \\\n",
       "0                     1000                     1600   \n",
       "1                      800                     1200   \n",
       "2                      800                     1200   \n",
       "3                     1000                     1500   \n",
       "4                     1000                     1600   \n",
       "\n",
       "   Modal Price (Rs./Quintal) Price Date  \n",
       "0                       1200   December  \n",
       "1                       1000   December  \n",
       "2                       1000   December  \n",
       "3                       1200   December  \n",
       "4                       1200   December  "
      ]
     },
     "execution_count": 4,
     "metadata": {},
     "output_type": "execute_result"
    }
   ],
   "source": [
    "df.head()"
   ]
  },
  {
   "cell_type": "code",
   "execution_count": 5,
   "id": "3946941b",
   "metadata": {},
   "outputs": [
    {
     "data": {
      "text/html": [
       "<div>\n",
       "<style scoped>\n",
       "    .dataframe tbody tr th:only-of-type {\n",
       "        vertical-align: middle;\n",
       "    }\n",
       "\n",
       "    .dataframe tbody tr th {\n",
       "        vertical-align: top;\n",
       "    }\n",
       "\n",
       "    .dataframe thead th {\n",
       "        text-align: right;\n",
       "    }\n",
       "</style>\n",
       "<table border=\"1\" class=\"dataframe\">\n",
       "  <thead>\n",
       "    <tr style=\"text-align: right;\">\n",
       "      <th></th>\n",
       "      <th>count</th>\n",
       "      <th>mean</th>\n",
       "      <th>std</th>\n",
       "      <th>min</th>\n",
       "      <th>25%</th>\n",
       "      <th>50%</th>\n",
       "      <th>75%</th>\n",
       "      <th>max</th>\n",
       "    </tr>\n",
       "  </thead>\n",
       "  <tbody>\n",
       "    <tr>\n",
       "      <th>Sl no.</th>\n",
       "      <td>216.0</td>\n",
       "      <td>108.500000</td>\n",
       "      <td>62.498000</td>\n",
       "      <td>1.0</td>\n",
       "      <td>54.75</td>\n",
       "      <td>108.5</td>\n",
       "      <td>162.25</td>\n",
       "      <td>216.0</td>\n",
       "    </tr>\n",
       "    <tr>\n",
       "      <th>Min Price (Rs./Quintal)</th>\n",
       "      <td>216.0</td>\n",
       "      <td>1655.324074</td>\n",
       "      <td>1945.814085</td>\n",
       "      <td>300.0</td>\n",
       "      <td>600.00</td>\n",
       "      <td>800.0</td>\n",
       "      <td>1800.00</td>\n",
       "      <td>8000.0</td>\n",
       "    </tr>\n",
       "    <tr>\n",
       "      <th>Max Price (Rs./Quintal)</th>\n",
       "      <td>216.0</td>\n",
       "      <td>2169.675926</td>\n",
       "      <td>2209.455239</td>\n",
       "      <td>500.0</td>\n",
       "      <td>1000.00</td>\n",
       "      <td>1400.0</td>\n",
       "      <td>2200.00</td>\n",
       "      <td>8500.0</td>\n",
       "    </tr>\n",
       "    <tr>\n",
       "      <th>Modal Price (Rs./Quintal)</th>\n",
       "      <td>216.0</td>\n",
       "      <td>1911.805556</td>\n",
       "      <td>2073.915963</td>\n",
       "      <td>400.0</td>\n",
       "      <td>800.00</td>\n",
       "      <td>1200.0</td>\n",
       "      <td>2000.00</td>\n",
       "      <td>8200.0</td>\n",
       "    </tr>\n",
       "  </tbody>\n",
       "</table>\n",
       "</div>"
      ],
      "text/plain": [
       "                           count         mean          std    min      25%  \\\n",
       "Sl no.                     216.0   108.500000    62.498000    1.0    54.75   \n",
       "Min Price (Rs./Quintal)    216.0  1655.324074  1945.814085  300.0   600.00   \n",
       "Max Price (Rs./Quintal)    216.0  2169.675926  2209.455239  500.0  1000.00   \n",
       "Modal Price (Rs./Quintal)  216.0  1911.805556  2073.915963  400.0   800.00   \n",
       "\n",
       "                              50%      75%     max  \n",
       "Sl no.                      108.5   162.25   216.0  \n",
       "Min Price (Rs./Quintal)     800.0  1800.00  8000.0  \n",
       "Max Price (Rs./Quintal)    1400.0  2200.00  8500.0  \n",
       "Modal Price (Rs./Quintal)  1200.0  2000.00  8200.0  "
      ]
     },
     "execution_count": 5,
     "metadata": {},
     "output_type": "execute_result"
    }
   ],
   "source": [
    "df.describe().transpose()"
   ]
  },
  {
   "cell_type": "code",
   "execution_count": 6,
   "id": "6ec4ff84",
   "metadata": {},
   "outputs": [
    {
     "data": {
      "text/plain": [
       "2169.675925925926"
      ]
     },
     "execution_count": 6,
     "metadata": {},
     "output_type": "execute_result"
    }
   ],
   "source": [
    "df['Max Price (Rs./Quintal)'].mean()"
   ]
  },
  {
   "cell_type": "code",
   "execution_count": 7,
   "id": "142db92f",
   "metadata": {},
   "outputs": [
    {
     "data": {
      "text/plain": [
       "2209.4552388828897"
      ]
     },
     "execution_count": 7,
     "metadata": {},
     "output_type": "execute_result"
    }
   ],
   "source": [
    "df['Max Price (Rs./Quintal)'].std()"
   ]
  },
  {
   "cell_type": "code",
   "execution_count": 8,
   "id": "1f1f2d11",
   "metadata": {},
   "outputs": [
    {
     "data": {
      "text/plain": [
       "4881692.452627048"
      ]
     },
     "execution_count": 8,
     "metadata": {},
     "output_type": "execute_result"
    }
   ],
   "source": [
    "df['Max Price (Rs./Quintal)'].var()"
   ]
  },
  {
   "cell_type": "code",
   "execution_count": 9,
   "id": "8d9df312",
   "metadata": {},
   "outputs": [],
   "source": [
    "a = [600, 1000, 1400, 1800, 2500, 3000, 3500, 4500, 5000, 5500, 6000, 6500, 7000, 8000]"
   ]
  },
  {
   "cell_type": "code",
   "execution_count": 10,
   "id": "16462e49",
   "metadata": {},
   "outputs": [
    {
     "name": "stdout",
     "output_type": "stream",
     "text": [
      "Number of occurances of price less than or equal to 600 = 25\n",
      "CDF or f(600) = 0.116\n",
      "Number of occurances of price less than or equal to 1000 = 77\n",
      "CDF or f(1000) = 0.356\n",
      "Number of occurances of price less than or equal to 1400 = 112\n",
      "CDF or f(1400) = 0.519\n",
      "Number of occurances of price less than or equal to 1800 = 155\n",
      "CDF or f(1800) = 0.718\n",
      "Number of occurances of price less than or equal to 2500 = 178\n",
      "CDF or f(2500) = 0.824\n",
      "Number of occurances of price less than or equal to 3000 = 185\n",
      "CDF or f(3000) = 0.856\n",
      "Number of occurances of price less than or equal to 3500 = 185\n",
      "CDF or f(3500) = 0.856\n",
      "Number of occurances of price less than or equal to 4500 = 190\n",
      "CDF or f(4500) = 0.88\n",
      "Number of occurances of price less than or equal to 5000 = 190\n",
      "CDF or f(5000) = 0.88\n",
      "Number of occurances of price less than or equal to 5500 = 191\n",
      "CDF or f(5500) = 0.884\n",
      "Number of occurances of price less than or equal to 6000 = 193\n",
      "CDF or f(6000) = 0.894\n",
      "Number of occurances of price less than or equal to 6500 = 194\n",
      "CDF or f(6500) = 0.898\n",
      "Number of occurances of price less than or equal to 7000 = 194\n",
      "CDF or f(7000) = 0.898\n",
      "Number of occurances of price less than or equal to 8000 = 208\n",
      "CDF or f(8000) = 0.963\n"
     ]
    }
   ],
   "source": [
    "cdf_list = []\n",
    "for price in a:\n",
    "    # Count the number of occurances of price less than or equal to the value\n",
    "    count = 0  \n",
    "    for i in range(len(df)):\n",
    "        if df['Max Price (Rs./Quintal)'][i] <= price:\n",
    "            count += 1\n",
    "    print(f'Number of occurances of price less than or equal to {price} = {count}') \n",
    "    # cdf calculation: Total days price is less than or equal to a / Total days\n",
    "    cdf = round(count / len(df), 3)\n",
    "    cdf_list.append(cdf)\n",
    "    print(f'CDF or f({price}) = {cdf}')\n",
    "        "
   ]
  },
  {
   "cell_type": "code",
   "execution_count": 11,
   "id": "8700d51c",
   "metadata": {},
   "outputs": [
    {
     "data": {
      "text/plain": [
       "1600"
      ]
     },
     "execution_count": 11,
     "metadata": {},
     "output_type": "execute_result"
    }
   ],
   "source": [
    "df['Max Price (Rs./Quintal)'][0]"
   ]
  },
  {
   "cell_type": "code",
   "execution_count": 12,
   "id": "81c83a61",
   "metadata": {},
   "outputs": [],
   "source": [
    "cdf_list\n",
    "cdf_list_ggl_sht = [0.239, 0.298, 0.364, 0.433, 0.560, 0.646, 0.726, 0.854, 0.900, 0.934, 0.959, 0.975, 0.986, 0.996]"
   ]
  },
  {
   "cell_type": "code",
   "execution_count": 13,
   "id": "05e0f92e",
   "metadata": {},
   "outputs": [
    {
     "data": {
      "text/plain": [
       "[<matplotlib.lines.Line2D at 0x7f3ad140ae50>]"
      ]
     },
     "execution_count": 13,
     "metadata": {},
     "output_type": "execute_result"
    },
    {
     "data": {
      "image/png": "[encoded data removed]",
      "text/plain": [
       "<Figure size 640x480 with 1 Axes>"
      ]
     },
     "metadata": {},
     "output_type": "display_data"
    }
   ],
   "source": [
    "plt.plot(a, cdf_list)\n",
    "plt.plot(a, cdf_list_ggl_sht, color='red')"
   ]
  },
  {
   "cell_type": "code",
   "execution_count": 14,
   "id": "6a313726",
   "metadata": {},
   "outputs": [
    {
     "name": "stdout",
     "output_type": "stream",
     "text": [
      "CDF(600) = 0.075089\n",
      "CDF(1000) = 0.134303\n",
      "CDF(1400) = 0.199562\n",
      "CDF(1800) = 0.269171\n",
      "CDF(2500) = 0.395017\n",
      "CDF(3000) = 0.482266\n",
      "CDF(3500) = 0.562595\n",
      "CDF(4500) = 0.691307\n",
      "CDF(5000) = 0.737473\n",
      "CDF(5500) = 0.772134\n",
      "CDF(6000) = 0.796864\n",
      "CDF(6500) = 0.813631\n",
      "CDF(7000) = 0.824434\n",
      "CDF(8000) = 0.834896\n"
     ]
    }
   ],
   "source": [
    "import numpy as np\n",
    "from scipy.integrate import quad\n",
    "# Constants\n",
    "mu = 2189.68\n",
    "sigma = 2209.46\n",
    "\n",
    "# PDF of the normal distribution\n",
    "def pdf(x):\n",
    "    return (1 / (sigma * np.sqrt(2 * np.pi))) * np.exp(-0.5 * ((x - mu) / sigma) ** 2)\n",
    "\n",
    "# CDF calculation function\n",
    "def cdf(a):\n",
    "    integral, error = quad(pdf, 0, a)\n",
    "    return integral\n",
    "\n",
    "# Values for a\n",
    "a_values = [600, 1000, 1400, 1800, 2500, 3000, 3500, 4500, 5000, 5500, 6000, 6500, 7000, 8000]\n",
    "\n",
    "# Calculate CDF for all a values\n",
    "cdf_results = [cdf(a) for a in a_values]\n",
    "\n",
    "# Print results\n",
    "for a, result in zip(a_values, cdf_results):\n",
    "    print(f\"CDF({a}) = {result:.6f}\")"
   ]
  },
  {
   "cell_type": "code",
   "execution_count": 15,
   "id": "3cf9e038",
   "metadata": {},
   "outputs": [],
   "source": [
    "sample_cdf = [0.015,0.085, 0.145, 0.245, 0.30, 0.465, 0.66, 0.84, 0.935,0.985]\n",
    "sample_cdf_2 = [0.017, 0.069, 0.14, 0.25, 0.32, 0.48, 0.64, 0.83, 0.94, 0.97]\n",
    "b = [0, 300, 500, 700, 800, 1000, 1200, 1500, 1800, 2000]"
   ]
  },
  {
   "cell_type": "code",
   "execution_count": 16,
   "id": "5d604df1",
   "metadata": {},
   "outputs": [
    {
     "data": {
      "text/plain": [
       "[<matplotlib.lines.Line2D at 0x7f3ad12c8710>]"
      ]
     },
     "execution_count": 16,
     "metadata": {},
     "output_type": "execute_result"
    },
    {
     "data": {
      "image/png": "[encoded data removed]",
      "text/plain": [
       "<Figure size 640x480 with 1 Axes>"
      ]
     },
     "metadata": {},
     "output_type": "display_data"
    }
   ],
   "source": [
    "plt.plot(b, sample_cdf)\n",
    "plt.plot(b, sample_cdf_2, color='red')"
   ]
  },
  {
   "cell_type": "code",
   "execution_count": null,
   "id": "da4bf945",
   "metadata": {},
   "outputs": [],
   "source": []
  }
 ],
 "metadata": {
  "kernelspec": {
   "display_name": "Python 3 (ipykernel)",
   "language": "python",
   "name": "python3"
  },
  "language_info": {
   "codemirror_mode": {
    "name": "ipython",
    "version": 3
   },
   "file_extension": ".py",
   "mimetype": "text/x-python",
   "name": "python",
   "nbconvert_exporter": "python",
   "pygments_lexer": "ipython3",
   "version": "3.11.3"
  },
  "toc": {
   "base_numbering": 1,
   "nav_menu": {},
   "number_sections": true,
   "sideBar": true,
   "skip_h1_title": false,
   "title_cell": "Table of Contents",
   "title_sidebar": "Contents",
   "toc_cell": false,
   "toc_position": {},
   "toc_section_display": true,
   "toc_window_display": false
  },
  "varInspector": {
   "cols": {
    "lenName": 16,
    "lenType": 16,
    "lenVar": 40
   },
   "kernels_config": {
    "python": {
     "delete_cmd_postfix": "",
     "delete_cmd_prefix": "del ",
     "library": "var_list.py",
     "varRefreshCmd": "print(var_dic_list())"
    },
    "r": {
     "delete_cmd_postfix": ") ",
     "delete_cmd_prefix": "rm(",
     "library": "var_list.r",
     "varRefreshCmd": "cat(var_dic_list()) "
    }
   },
   "types_to_exclude": [
    "module",
    "function",
    "builtin_function_or_method",
    "instance",
    "_Feature"
   ],
   "window_display": false
  }
 },
 "nbformat": 4,
 "nbformat_minor": 5
}
